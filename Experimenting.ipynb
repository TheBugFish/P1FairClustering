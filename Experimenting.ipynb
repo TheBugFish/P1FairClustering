{
 "cells": [
  {
   "cell_type": "code",
   "execution_count": 1,
   "metadata": {},
   "outputs": [],
   "source": [
    "from experiments import FairletExperiment\n",
    "from helper.data_loader import data_loader"
   ]
  },
  {
   "cell_type": "code",
   "execution_count": 6,
   "metadata": {},
   "outputs": [],
   "source": [
    "#set constants\n",
    "#dataset_names = [\"adult\", \"bank\"]\n",
    "dataset_names = [\"adult\"]\n",
    "clustering_method = \"k-centers\"\n",
    "num_experiments = 5\n",
    "starting_randomState = 42\n",
    "starting_num_clusters = 3\n",
    "max_num_clusters = 20"
   ]
  },
  {
   "cell_type": "code",
   "execution_count": 3,
   "metadata": {},
   "outputs": [],
   "source": [
    "loader = data_loader('./config/dataset_config.json')\n",
    "config = loader.get_config()"
   ]
  },
  {
   "cell_type": "code",
   "execution_count": 4,
   "metadata": {},
   "outputs": [
    {
     "name": "stdout",
     "output_type": "stream",
     "text": [
      "[43, 44, 46, 47, 49]\n",
      "cluster count: 3\n",
      "cluster count: 4\n",
      "cluster count: 5\n",
      "cluster count: 6\n",
      "cluster count: 7\n",
      "cluster count: 8\n",
      "cluster count: 9\n",
      "cluster count: 10\n",
      "cluster count: 11\n",
      "cluster count: 12\n",
      "cluster count: 13\n",
      "cluster count: 14\n",
      "cluster count: 15\n",
      "cluster count: 16\n",
      "cluster count: 17\n",
      "cluster count: 18\n",
      "cluster count: 19\n",
      "cluster count: 20\n",
      "cluster count: 3\n",
      "cluster count: 4\n",
      "cluster count: 5\n",
      "cluster count: 6\n",
      "cluster count: 7\n",
      "cluster count: 8\n",
      "cluster count: 9\n",
      "cluster count: 10\n",
      "cluster count: 11\n",
      "cluster count: 12\n",
      "cluster count: 13\n",
      "cluster count: 14\n",
      "cluster count: 15\n",
      "cluster count: 16\n",
      "cluster count: 17\n",
      "cluster count: 18\n",
      "cluster count: 19\n",
      "cluster count: 20\n",
      "cluster count: 3\n",
      "cluster count: 4\n",
      "cluster count: 5\n",
      "cluster count: 6\n",
      "cluster count: 7\n",
      "cluster count: 8\n",
      "cluster count: 9\n",
      "cluster count: 10\n",
      "cluster count: 11\n",
      "cluster count: 12\n",
      "cluster count: 13\n",
      "cluster count: 14\n",
      "cluster count: 15\n",
      "cluster count: 16\n",
      "cluster count: 17\n",
      "cluster count: 18\n",
      "cluster count: 19\n",
      "cluster count: 20\n",
      "cluster count: 3\n",
      "cluster count: 4\n",
      "cluster count: 5\n",
      "cluster count: 6\n",
      "cluster count: 7\n",
      "cluster count: 8\n",
      "cluster count: 9\n",
      "cluster count: 10\n",
      "cluster count: 11\n",
      "cluster count: 12\n",
      "cluster count: 13\n",
      "cluster count: 14\n",
      "cluster count: 15\n",
      "cluster count: 16\n",
      "cluster count: 17\n",
      "cluster count: 18\n",
      "cluster count: 19\n",
      "cluster count: 20\n",
      "cluster count: 3\n",
      "cluster count: 4\n",
      "cluster count: 5\n",
      "cluster count: 6\n",
      "cluster count: 7\n",
      "cluster count: 8\n",
      "cluster count: 9\n",
      "cluster count: 10\n",
      "cluster count: 11\n",
      "cluster count: 12\n",
      "cluster count: 13\n",
      "cluster count: 14\n",
      "cluster count: 15\n",
      "cluster count: 16\n",
      "cluster count: 17\n",
      "cluster count: 18\n",
      "cluster count: 19\n",
      "cluster count: 20\n"
     ]
    },
    {
     "ename": "AttributeError",
     "evalue": "'tuple' object has no attribute 'append'",
     "output_type": "error",
     "traceback": [
      "\u001b[1;31m---------------------------------------------------------------------------\u001b[0m",
      "\u001b[1;31mAttributeError\u001b[0m                            Traceback (most recent call last)",
      "Cell \u001b[1;32mIn[4], line 11\u001b[0m\n\u001b[0;32m      9\u001b[0m \u001b[38;5;28mprint\u001b[39m(validRandomStates)\n\u001b[0;32m     10\u001b[0m fairletTuple \u001b[38;5;241m=\u001b[39m FairletExperiment\u001b[38;5;241m.\u001b[39mDoFairletExperiment(normalized_dataset, dataset_name, loader, validRandomStates, \u001b[38;5;124m\"\u001b[39m\u001b[38;5;124mfairlets\u001b[39m\u001b[38;5;124m\"\u001b[39m, \u001b[38;5;124m\"\u001b[39m\u001b[38;5;124mk-centers\u001b[39m\u001b[38;5;124m\"\u001b[39m, starting_num_clusters, max_num_clusters, \u001b[38;5;124m\"\u001b[39m\u001b[38;5;124mmin\u001b[39m\u001b[38;5;124m\"\u001b[39m)\n\u001b[1;32m---> 11\u001b[0m \u001b[43mfairletTuples\u001b[49m\u001b[38;5;241;43m.\u001b[39;49m\u001b[43mappend\u001b[49m(fairletTuple)\n",
      "\u001b[1;31mAttributeError\u001b[0m: 'tuple' object has no attribute 'append'"
     ]
    }
   ],
   "source": [
    "fairletDict = {}\n",
    "\n",
    "\n",
    "for dataset_name in dataset_names:\n",
    "    X,_ = loader.load_dataset(dataset_name)\n",
    "    prepared_dataset = loader.prepare_dataset(X, dataset_name, complexity=\"extended\")\n",
    "    normalized_dataset = loader.normalize_data(prepared_dataset, dataset_name)\n",
    "\n",
    "    validRandomStates = FairletExperiment.FindValidRandomStates(normalized_dataset, dataset_name, loader, num_experiments, starting_randomState)\n",
    "    print(validRandomStates)\n",
    "    fairletTuple = FairletExperiment.DoFairletExperiment(normalized_dataset, dataset_name, loader, validRandomStates, \"fairlets\", clustering_method , starting_num_clusters, max_num_clusters, \"min\")\n",
    "    idString = \"fairlet_\" + dataset_name + \"_\" + clustering_method\n",
    "    fairletDict[idString] = fairletTuple\n"
   ]
  },
  {
   "cell_type": "code",
   "execution_count": null,
   "metadata": {},
   "outputs": [],
   "source": []
  }
 ],
 "metadata": {
  "kernelspec": {
   "display_name": "Python 3",
   "language": "python",
   "name": "python3"
  },
  "language_info": {
   "codemirror_mode": {
    "name": "ipython",
    "version": 3
   },
   "file_extension": ".py",
   "mimetype": "text/x-python",
   "name": "python",
   "nbconvert_exporter": "python",
   "pygments_lexer": "ipython3",
   "version": "3.10.2"
  }
 },
 "nbformat": 4,
 "nbformat_minor": 2
}
