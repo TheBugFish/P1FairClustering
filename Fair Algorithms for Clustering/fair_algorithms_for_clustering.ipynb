{
 "cells": [
  {
   "cell_type": "markdown",
   "metadata": {},
   "source": [
    "### Implementation of Fair Algorithms for Clustering\n",
    "\n",
    "in comparison to the fairlets algorithm this one first uses the vanilla clustering method and then moves the center of the clusters based on the algorithm below"
   ]
  },
  {
   "cell_type": "code",
   "execution_count": null,
   "metadata": {},
   "outputs": [],
   "source": []
  }
 ],
 "metadata": {
  "language_info": {
   "name": "python"
  }
 },
 "nbformat": 4,
 "nbformat_minor": 2
}
