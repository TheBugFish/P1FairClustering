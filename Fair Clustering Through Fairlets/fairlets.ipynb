{
 "cells": [
  {
   "cell_type": "markdown",
   "metadata": {},
   "source": [
    "### Fair Clustering Through Fairlets\n",
    "\n",
    "Paper Link: https://proceedings.neurips.cc/paper_files/paper/2017/hash/978fce5bcc4eccc88ad48ce3914124a2-Abstract.html"
   ]
  },
  {
   "cell_type": "code",
   "execution_count": null,
   "metadata": {},
   "outputs": [],
   "source": []
  }
 ],
 "metadata": {
  "language_info": {
   "name": "python"
  }
 },
 "nbformat": 4,
 "nbformat_minor": 2
}
