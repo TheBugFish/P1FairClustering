{
 "cells": [
  {
   "cell_type": "markdown",
   "metadata": {},
   "source": [
    "C = set of points we want to cluster\n",
    "metric space (X,d)\n",
    "integer parameter k\n",
    "F elem of X = possible cluster locations\n",
    "F and C dont need to be disjoint\n",
    "set S elem of X and point x elem of X d(x,S) = min distance of point x and all the points of S\n",
    "[n] = set {1,2,3, .... n}\n",
    "\n",
    "l = number of groups of C (sensitive groups)\n",
    "triangle = maximum number of groups a point can be a part of\n",
    "\n",
    "we also have 2 fairness vectors alpha, beta [0,1]^l\n",
    "\n",
    "cluster assignment has these 2 additional fairness constraints:\n",
    "number of elements of a group in a cluster has to be smaller than alpha * all elements of cluster\n",
    "number of elements of a group in a cluster has to be larger than beta * all elements of cluster"
   ]
  },
  {
   "cell_type": "code",
   "execution_count": 2,
   "metadata": {},
   "outputs": [],
   "source": [
    "from helper import data_loader, k_center\n",
    "from cplex import Cplex\n",
    "from scipy.spatial.distance import cdist\n",
    "import numpy as np\n",
    "import time"
   ]
  },
  {
   "cell_type": "code",
   "execution_count": 3,
   "metadata": {},
   "outputs": [],
   "source": [
    "loader = data_loader.data_loader('./config/dataset_config.json')\n",
    "config = loader.get_config()\n",
    "\n",
    "\n",
    "dataset_name = \"adult\"\n",
    "X,_ = loader.load_dataset(dataset_name)\n",
    "prepared_dataset = loader.prepare_dataset(X, dataset_name, complexity=\"extended\")"
   ]
  },
  {
   "cell_type": "code",
   "execution_count": 4,
   "metadata": {},
   "outputs": [],
   "source": [
    "k = 5"
   ]
  },
  {
   "cell_type": "code",
   "execution_count": 5,
   "metadata": {},
   "outputs": [
    {
     "data": {
      "text/html": [
       "<div>\n",
       "<style scoped>\n",
       "    .dataframe tbody tr th:only-of-type {\n",
       "        vertical-align: middle;\n",
       "    }\n",
       "\n",
       "    .dataframe tbody tr th {\n",
       "        vertical-align: top;\n",
       "    }\n",
       "\n",
       "    .dataframe thead th {\n",
       "        text-align: right;\n",
       "    }\n",
       "</style>\n",
       "<table border=\"1\" class=\"dataframe\">\n",
       "  <thead>\n",
       "    <tr style=\"text-align: right;\">\n",
       "      <th></th>\n",
       "      <th>sex</th>\n",
       "      <th>race</th>\n",
       "      <th>age</th>\n",
       "      <th>fnlwgt</th>\n",
       "      <th>education-num</th>\n",
       "      <th>capital-gain</th>\n",
       "      <th>hours-per-week</th>\n",
       "    </tr>\n",
       "  </thead>\n",
       "  <tbody>\n",
       "    <tr>\n",
       "      <th>0</th>\n",
       "      <td>0</td>\n",
       "      <td>0</td>\n",
       "      <td>39</td>\n",
       "      <td>77516</td>\n",
       "      <td>13</td>\n",
       "      <td>2174</td>\n",
       "      <td>40</td>\n",
       "    </tr>\n",
       "    <tr>\n",
       "      <th>1</th>\n",
       "      <td>0</td>\n",
       "      <td>0</td>\n",
       "      <td>50</td>\n",
       "      <td>83311</td>\n",
       "      <td>13</td>\n",
       "      <td>0</td>\n",
       "      <td>13</td>\n",
       "    </tr>\n",
       "    <tr>\n",
       "      <th>2</th>\n",
       "      <td>0</td>\n",
       "      <td>0</td>\n",
       "      <td>38</td>\n",
       "      <td>215646</td>\n",
       "      <td>9</td>\n",
       "      <td>0</td>\n",
       "      <td>40</td>\n",
       "    </tr>\n",
       "    <tr>\n",
       "      <th>3</th>\n",
       "      <td>0</td>\n",
       "      <td>4</td>\n",
       "      <td>53</td>\n",
       "      <td>234721</td>\n",
       "      <td>7</td>\n",
       "      <td>0</td>\n",
       "      <td>40</td>\n",
       "    </tr>\n",
       "    <tr>\n",
       "      <th>4</th>\n",
       "      <td>1</td>\n",
       "      <td>4</td>\n",
       "      <td>28</td>\n",
       "      <td>338409</td>\n",
       "      <td>13</td>\n",
       "      <td>0</td>\n",
       "      <td>40</td>\n",
       "    </tr>\n",
       "    <tr>\n",
       "      <th>...</th>\n",
       "      <td>...</td>\n",
       "      <td>...</td>\n",
       "      <td>...</td>\n",
       "      <td>...</td>\n",
       "      <td>...</td>\n",
       "      <td>...</td>\n",
       "      <td>...</td>\n",
       "    </tr>\n",
       "    <tr>\n",
       "      <th>48837</th>\n",
       "      <td>1</td>\n",
       "      <td>0</td>\n",
       "      <td>39</td>\n",
       "      <td>215419</td>\n",
       "      <td>13</td>\n",
       "      <td>0</td>\n",
       "      <td>36</td>\n",
       "    </tr>\n",
       "    <tr>\n",
       "      <th>48838</th>\n",
       "      <td>0</td>\n",
       "      <td>4</td>\n",
       "      <td>64</td>\n",
       "      <td>321403</td>\n",
       "      <td>9</td>\n",
       "      <td>0</td>\n",
       "      <td>40</td>\n",
       "    </tr>\n",
       "    <tr>\n",
       "      <th>48839</th>\n",
       "      <td>0</td>\n",
       "      <td>0</td>\n",
       "      <td>38</td>\n",
       "      <td>374983</td>\n",
       "      <td>13</td>\n",
       "      <td>0</td>\n",
       "      <td>50</td>\n",
       "    </tr>\n",
       "    <tr>\n",
       "      <th>48840</th>\n",
       "      <td>0</td>\n",
       "      <td>1</td>\n",
       "      <td>44</td>\n",
       "      <td>83891</td>\n",
       "      <td>13</td>\n",
       "      <td>5455</td>\n",
       "      <td>40</td>\n",
       "    </tr>\n",
       "    <tr>\n",
       "      <th>48841</th>\n",
       "      <td>0</td>\n",
       "      <td>0</td>\n",
       "      <td>35</td>\n",
       "      <td>182148</td>\n",
       "      <td>13</td>\n",
       "      <td>0</td>\n",
       "      <td>60</td>\n",
       "    </tr>\n",
       "  </tbody>\n",
       "</table>\n",
       "<p>48842 rows × 7 columns</p>\n",
       "</div>"
      ],
      "text/plain": [
       "       sex  race  age  fnlwgt  education-num  capital-gain  hours-per-week\n",
       "0        0     0   39   77516             13          2174              40\n",
       "1        0     0   50   83311             13             0              13\n",
       "2        0     0   38  215646              9             0              40\n",
       "3        0     4   53  234721              7             0              40\n",
       "4        1     4   28  338409             13             0              40\n",
       "...    ...   ...  ...     ...            ...           ...             ...\n",
       "48837    1     0   39  215419             13             0              36\n",
       "48838    0     4   64  321403              9             0              40\n",
       "48839    0     0   38  374983             13             0              50\n",
       "48840    0     1   44   83891             13          5455              40\n",
       "48841    0     0   35  182148             13             0              60\n",
       "\n",
       "[48842 rows x 7 columns]"
      ]
     },
     "execution_count": 5,
     "metadata": {},
     "output_type": "execute_result"
    }
   ],
   "source": [
    "sensitive_columns = config[dataset_name]['sensitive_column']\n",
    "\n",
    "dataset = X[sensitive_columns + config[dataset_name]['distance_columns']]\n",
    "for i in range(len(sensitive_columns)):\n",
    "    dataset = dataset[dataset[sensitive_columns[i]].isin(config[dataset_name]['sensitive_values'][i])]\n",
    "\n",
    "for i in range(len(sensitive_columns)):\n",
    "    dataset[sensitive_columns[i]] = dataset[sensitive_columns[i]].apply(lambda x: config[dataset_name]['sensitive_values'][i].index(x))\n",
    "    \n",
    "dataset"
   ]
  },
  {
   "cell_type": "code",
   "execution_count": 7,
   "metadata": {},
   "outputs": [
    {
     "data": {
      "text/html": [
       "<div>\n",
       "<style scoped>\n",
       "    .dataframe tbody tr th:only-of-type {\n",
       "        vertical-align: middle;\n",
       "    }\n",
       "\n",
       "    .dataframe tbody tr th {\n",
       "        vertical-align: top;\n",
       "    }\n",
       "\n",
       "    .dataframe thead th {\n",
       "        text-align: right;\n",
       "    }\n",
       "</style>\n",
       "<table border=\"1\" class=\"dataframe\">\n",
       "  <thead>\n",
       "    <tr style=\"text-align: right;\">\n",
       "      <th></th>\n",
       "      <th>sex</th>\n",
       "      <th>race</th>\n",
       "      <th>age</th>\n",
       "      <th>fnlwgt</th>\n",
       "      <th>education-num</th>\n",
       "      <th>capital-gain</th>\n",
       "      <th>hours-per-week</th>\n",
       "    </tr>\n",
       "  </thead>\n",
       "  <tbody>\n",
       "    <tr>\n",
       "      <th>7762</th>\n",
       "      <td>0</td>\n",
       "      <td>0</td>\n",
       "      <td>18</td>\n",
       "      <td>423024</td>\n",
       "      <td>9</td>\n",
       "      <td>0</td>\n",
       "      <td>20</td>\n",
       "    </tr>\n",
       "    <tr>\n",
       "      <th>23881</th>\n",
       "      <td>1</td>\n",
       "      <td>0</td>\n",
       "      <td>17</td>\n",
       "      <td>178953</td>\n",
       "      <td>8</td>\n",
       "      <td>0</td>\n",
       "      <td>20</td>\n",
       "    </tr>\n",
       "    <tr>\n",
       "      <th>30507</th>\n",
       "      <td>0</td>\n",
       "      <td>4</td>\n",
       "      <td>25</td>\n",
       "      <td>348986</td>\n",
       "      <td>9</td>\n",
       "      <td>0</td>\n",
       "      <td>40</td>\n",
       "    </tr>\n",
       "    <tr>\n",
       "      <th>28911</th>\n",
       "      <td>1</td>\n",
       "      <td>0</td>\n",
       "      <td>20</td>\n",
       "      <td>218215</td>\n",
       "      <td>10</td>\n",
       "      <td>0</td>\n",
       "      <td>30</td>\n",
       "    </tr>\n",
       "    <tr>\n",
       "      <th>19484</th>\n",
       "      <td>0</td>\n",
       "      <td>2</td>\n",
       "      <td>47</td>\n",
       "      <td>244025</td>\n",
       "      <td>9</td>\n",
       "      <td>0</td>\n",
       "      <td>56</td>\n",
       "    </tr>\n",
       "    <tr>\n",
       "      <th>...</th>\n",
       "      <td>...</td>\n",
       "      <td>...</td>\n",
       "      <td>...</td>\n",
       "      <td>...</td>\n",
       "      <td>...</td>\n",
       "      <td>...</td>\n",
       "      <td>...</td>\n",
       "    </tr>\n",
       "    <tr>\n",
       "      <th>14475</th>\n",
       "      <td>1</td>\n",
       "      <td>4</td>\n",
       "      <td>17</td>\n",
       "      <td>222618</td>\n",
       "      <td>7</td>\n",
       "      <td>0</td>\n",
       "      <td>30</td>\n",
       "    </tr>\n",
       "    <tr>\n",
       "      <th>4817</th>\n",
       "      <td>1</td>\n",
       "      <td>0</td>\n",
       "      <td>27</td>\n",
       "      <td>116531</td>\n",
       "      <td>13</td>\n",
       "      <td>0</td>\n",
       "      <td>40</td>\n",
       "    </tr>\n",
       "    <tr>\n",
       "      <th>5553</th>\n",
       "      <td>0</td>\n",
       "      <td>0</td>\n",
       "      <td>18</td>\n",
       "      <td>703067</td>\n",
       "      <td>7</td>\n",
       "      <td>0</td>\n",
       "      <td>20</td>\n",
       "    </tr>\n",
       "    <tr>\n",
       "      <th>36869</th>\n",
       "      <td>0</td>\n",
       "      <td>0</td>\n",
       "      <td>22</td>\n",
       "      <td>310197</td>\n",
       "      <td>4</td>\n",
       "      <td>0</td>\n",
       "      <td>40</td>\n",
       "    </tr>\n",
       "    <tr>\n",
       "      <th>34309</th>\n",
       "      <td>0</td>\n",
       "      <td>3</td>\n",
       "      <td>52</td>\n",
       "      <td>192853</td>\n",
       "      <td>9</td>\n",
       "      <td>0</td>\n",
       "      <td>40</td>\n",
       "    </tr>\n",
       "  </tbody>\n",
       "</table>\n",
       "<p>600 rows × 7 columns</p>\n",
       "</div>"
      ],
      "text/plain": [
       "       sex  race  age  fnlwgt  education-num  capital-gain  hours-per-week\n",
       "7762     0     0   18  423024              9             0              20\n",
       "23881    1     0   17  178953              8             0              20\n",
       "30507    0     4   25  348986              9             0              40\n",
       "28911    1     0   20  218215             10             0              30\n",
       "19484    0     2   47  244025              9             0              56\n",
       "...    ...   ...  ...     ...            ...           ...             ...\n",
       "14475    1     4   17  222618              7             0              30\n",
       "4817     1     0   27  116531             13             0              40\n",
       "5553     0     0   18  703067              7             0              20\n",
       "36869    0     0   22  310197              4             0              40\n",
       "34309    0     3   52  192853              9             0              40\n",
       "\n",
       "[600 rows x 7 columns]"
      ]
     },
     "execution_count": 7,
     "metadata": {},
     "output_type": "execute_result"
    }
   ],
   "source": [
    "#sample dataset\n",
    "\n",
    "sampled_data = loader.sample_data(dataset, dataset_name, 42)\n",
    "sampled_data"
   ]
  },
  {
   "cell_type": "code",
   "execution_count": 11,
   "metadata": {},
   "outputs": [],
   "source": [
    "#do vanilla clustering\n",
    "kCenterInstance = k_center.k_center(dataset_name, loader)\n",
    "kCenterInstance.fit(sampled_data, k)\n",
    "costs, cluster_mapping = kCenterInstance.get_results()"
   ]
  },
  {
   "cell_type": "code",
   "execution_count": 105,
   "metadata": {},
   "outputs": [],
   "source": [
    "colormapping_dict = {}\n",
    "colormapping_per_point_dict = {}\n",
    "\n",
    "\n",
    "#get color mapping for each point and each sensitive attribute\n",
    "#and get mapping of each color class to indices of points of that class\n",
    "sens_attr_idx = 0\n",
    "for sensitive_attribute in sensitive_columns:\n",
    "     colorlist = sampled_data[sensitive_attribute].tolist()\n",
    "     \n",
    "     color_class_list = []\n",
    "     for color_class in range(len(config[dataset_name]['sensitive_values'][sens_attr_idx])):\n",
    "          indices = [i for i in range(len(colorlist)) if colorlist[i] == color_class]\n",
    "          color_class_list.append(indices)\n",
    "     \n",
    "     colormapping_dict[sensitive_attribute] = color_class_list\n",
    "     colormapping_per_point_dict[sensitive_attribute] = colorlist\n",
    "     sens_attr_idx+=1"
   ]
  },
  {
   "cell_type": "code",
   "execution_count": 108,
   "metadata": {},
   "outputs": [
    {
     "data": {
      "text/plain": [
       "{'sex': [0.6533333333333333, 0.3466666666666667],\n",
       " 'race': [0.865,\n",
       "  0.04,\n",
       "  0.008333333333333333,\n",
       "  0.0033333333333333335,\n",
       "  0.08333333333333333]}"
      ]
     },
     "execution_count": 108,
     "metadata": {},
     "output_type": "execute_result"
    }
   ],
   "source": [
    "#get balances\n",
    "balances = {}\n",
    "for sensitive_attribute, color_classes in colormapping_dict.items():\n",
    "    rep = []\n",
    "    for color_class in color_classes:\n",
    "        color_rep = len(color_class)  / len(sampled_data)\n",
    "        rep.append(color_rep)\n",
    "\n",
    "    balances[sensitive_attribute] = rep"
   ]
  },
  {
   "cell_type": "code",
   "execution_count": 125,
   "metadata": {},
   "outputs": [],
   "source": [
    "#get alpha beta\n",
    "deltas = [0.2, 0.2]\n",
    "\n",
    "for delta in deltas: \n",
    "    alpha = {}\n",
    "    beta = {}\n",
    "\n",
    "    alpha_val, beta_val = 1 /(1- delta), 1- delta\n",
    "    for sen_attr, colors in colormapping_dict.items():\n",
    "        alpha[sen_attr] = {k : alpha_val * balances[sen_attr][k] for k in range(len(balances[sen_attr]))}\n",
    "        beta[sen_attr] = {k : beta_val * balances[sen_attr][k] for k in range(len(balances[sen_attr]))}"
   ]
  },
  {
   "cell_type": "code",
   "execution_count": null,
   "metadata": {},
   "outputs": [],
   "source": [
    "#get cluster centers\n",
    "cluster_centers = list(cluster_mapping.keys())\n",
    "centers = sampled_data.iloc[cluster_centers]"
   ]
  },
  {
   "cell_type": "code",
   "execution_count": 51,
   "metadata": {},
   "outputs": [],
   "source": [
    "num_points = len(sampled_data)\n",
    "num_centers = len(centers)\n",
    "\n",
    "variable_names = [\"x_{}_{}\".format(j,i) for j in range(num_points) for i in range(num_centers)]\n",
    "\n",
    "total_variables = num_points * num_centers\n",
    "lower_bounds = [0 for _ in range(total_variables)]\n",
    "upper_bounds = [1 for _ in range(total_variables)]\n",
    "\n",
    "costs_per_point = cdist(sampled_data.values, centers.values, 'euclidean')\n",
    "costs = costs_per_point.ravel().tolist()"
   ]
  },
  {
   "cell_type": "code",
   "execution_count": 54,
   "metadata": {},
   "outputs": [
    {
     "data": {
      "text/plain": [
       "range(0, 3000)"
      ]
     },
     "execution_count": 54,
     "metadata": {},
     "output_type": "execute_result"
    }
   ],
   "source": [
    "#requires dataset, centers, number of clusters alpha beta\n",
    "\n",
    "problemSolver = Cplex()\n",
    "problemSolver.objective.set_sense(problemSolver.objective.sense.minimize)\n",
    "problemSolver.variables.add(obj=costs, lb=lower_bounds, ub=upper_bounds, names=variable_names)\n"
   ]
  },
  {
   "cell_type": "code",
   "execution_count": 148,
   "metadata": {},
   "outputs": [],
   "source": [
    "def add_color_constraint(color_mapping_per_point, var_beta, var_alpha):\n",
    "    beta_constraints = [[[\"x_{}_{}\".format(j, i) for j in range(num_points)],\n",
    "        [var_beta[color] - 1 if color_mapping_per_point[j] == color else var_beta[color] for j in range(num_points)]]\n",
    "        for i in range(num_centers) for color, _ in var_beta.items()]\n",
    "\n",
    "    alpha_constraints = [[[\"x_{}_{}\".format(j, i) for j in range(num_points)],\n",
    "                          [np.round(1 - var_alpha[color], decimals=3) if color_mapping_per_point[j] == color else (-1) * var_alpha[color]\n",
    "                           for j in range(num_points)]]\n",
    "                         for i in range(num_centers) for color, _ in var_beta.items()]\n",
    "    \n",
    "    constraints = beta_constraints + alpha_constraints\n",
    "    number_of_constraints = num_centers * len(var_beta) * 2\n",
    "    rhs = [0] * number_of_constraints\n",
    "\n",
    "    return constraints, rhs"
   ]
  },
  {
   "cell_type": "code",
   "execution_count": 145,
   "metadata": {},
   "outputs": [
    {
     "data": {
      "text/plain": [
       "600"
      ]
     },
     "execution_count": 145,
     "metadata": {},
     "output_type": "execute_result"
    }
   ],
   "source": [
    "num_points"
   ]
  },
  {
   "cell_type": "code",
   "execution_count": 149,
   "metadata": {},
   "outputs": [
    {
     "name": "stdout",
     "output_type": "stream",
     "text": [
      "600\n",
      "sex\n",
      "race\n"
     ]
    }
   ],
   "source": [
    "constraints_row = [[[\"x_{}_{}\".format(j, i) for i in range(num_centers)], [1] * num_centers] for j in range(num_points)]\n",
    "print(len(constraints_row))\n",
    "rhs = [1] * num_points\n",
    "sum_const_len = len(rhs)\n",
    "\n",
    "for var in colormapping_per_point_dict:\n",
    "    color_mapping_per_point, var_alpha, var_beta = colormapping_per_point_dict[var], alpha[var], beta[var]\n",
    "    color_constraint , color_rhs = add_color_constraint(color_mapping_per_point, var_beta, var_alpha)\n",
    "    constraints_row.extend(color_constraint)\n",
    "    rhs.extend(color_rhs)\n",
    "\n",
    "senses = [\"E\" for _ in range(sum_const_len)] + [\"L\" for _ in range(len(rhs) - sum_const_len)]\n",
    "\n",
    "constraint_names = [\"c_{}\".format(i) for i in range(len(rhs))]"
   ]
  },
  {
   "cell_type": "code",
   "execution_count": 152,
   "metadata": {},
   "outputs": [
    {
     "data": {
      "text/plain": [
       "range(0, 670)"
      ]
     },
     "execution_count": 152,
     "metadata": {},
     "output_type": "execute_result"
    }
   ],
   "source": [
    "problemSolver.linear_constraints.add(lin_expr=constraints_row, senses=senses, rhs=rhs, names=constraint_names)"
   ]
  },
  {
   "cell_type": "code",
   "execution_count": 153,
   "metadata": {},
   "outputs": [
    {
     "name": "stderr",
     "output_type": "stream",
     "text": [
      "Using size restricted mode (Could not find directory for cpxchecklic).\n",
      "CPLEX Error  1016: Community Edition. Problem size limits exceeded. Purchase at http://ibm.biz/error1016.\n"
     ]
    },
    {
     "ename": "CplexSolverError",
     "evalue": "CPLEX Error  1016: Community Edition. Problem size limits exceeded. Purchase at http://ibm.biz/error1016.",
     "output_type": "error",
     "traceback": [
      "\u001b[1;31m---------------------------------------------------------------------------\u001b[0m",
      "\u001b[1;31mCplexSolverError\u001b[0m                          Traceback (most recent call last)",
      "Cell \u001b[1;32mIn[153], line 1\u001b[0m\n\u001b[1;32m----> 1\u001b[0m \u001b[43mproblemSolver\u001b[49m\u001b[38;5;241;43m.\u001b[39;49m\u001b[43msolve\u001b[49m\u001b[43m(\u001b[49m\u001b[43m)\u001b[49m\n",
      "File \u001b[1;32mc:\\Users\\sebas\\AppData\\Local\\Programs\\Python\\Python310\\lib\\site-packages\\cplex\\__init__.py:1312\u001b[0m, in \u001b[0;36mCplex.solve\u001b[1;34m(self, paramsets)\u001b[0m\n\u001b[0;32m   1310\u001b[0m         _proc\u001b[38;5;241m.\u001b[39mqpopt(\u001b[38;5;28mself\u001b[39m\u001b[38;5;241m.\u001b[39m_env\u001b[38;5;241m.\u001b[39m_e, \u001b[38;5;28mself\u001b[39m\u001b[38;5;241m.\u001b[39m_lp)\n\u001b[0;32m   1311\u001b[0m \u001b[38;5;28;01melif\u001b[39;00m \u001b[38;5;129;01mnot\u001b[39;00m \u001b[38;5;28mself\u001b[39m\u001b[38;5;241m.\u001b[39mobjective\u001b[38;5;241m.\u001b[39mget_num_quadratic_nonzeros() \u001b[38;5;241m>\u001b[39m \u001b[38;5;241m0\u001b[39m:\n\u001b[1;32m-> 1312\u001b[0m     \u001b[43m_proc\u001b[49m\u001b[38;5;241;43m.\u001b[39;49m\u001b[43mlpopt\u001b[49m\u001b[43m(\u001b[49m\u001b[38;5;28;43mself\u001b[39;49m\u001b[38;5;241;43m.\u001b[39;49m\u001b[43m_env\u001b[49m\u001b[38;5;241;43m.\u001b[39;49m\u001b[43m_e\u001b[49m\u001b[43m,\u001b[49m\u001b[43m \u001b[49m\u001b[38;5;28;43mself\u001b[39;49m\u001b[38;5;241;43m.\u001b[39;49m\u001b[43m_lp\u001b[49m\u001b[43m)\u001b[49m\n\u001b[0;32m   1313\u001b[0m \u001b[38;5;28;01melse\u001b[39;00m:\n\u001b[0;32m   1314\u001b[0m     _proc\u001b[38;5;241m.\u001b[39mqpopt(\u001b[38;5;28mself\u001b[39m\u001b[38;5;241m.\u001b[39m_env\u001b[38;5;241m.\u001b[39m_e, \u001b[38;5;28mself\u001b[39m\u001b[38;5;241m.\u001b[39m_lp)\n",
      "File \u001b[1;32mc:\\Users\\sebas\\AppData\\Local\\Programs\\Python\\Python310\\lib\\site-packages\\cplex\\_internal\\_procedural.py:738\u001b[0m, in \u001b[0;36mlpopt\u001b[1;34m(env, lp)\u001b[0m\n\u001b[0;32m    736\u001b[0m \u001b[38;5;28;01mwith\u001b[39;00m SigIntHandler():\n\u001b[0;32m    737\u001b[0m     status \u001b[38;5;241m=\u001b[39m CR\u001b[38;5;241m.\u001b[39mCPXXlpopt(env, lp)\n\u001b[1;32m--> 738\u001b[0m \u001b[43mcheck_status\u001b[49m\u001b[43m(\u001b[49m\u001b[43menv\u001b[49m\u001b[43m,\u001b[49m\u001b[43m \u001b[49m\u001b[43mstatus\u001b[49m\u001b[43m)\u001b[49m\n",
      "File \u001b[1;32mc:\\Users\\sebas\\AppData\\Local\\Programs\\Python\\Python310\\lib\\site-packages\\cplex\\_internal\\_procedural.py:249\u001b[0m, in \u001b[0;36mStatusChecker.__call__\u001b[1;34m(self, env, status, from_cb)\u001b[0m\n\u001b[0;32m    247\u001b[0m     \u001b[38;5;28;01melse\u001b[39;00m:\n\u001b[0;32m    248\u001b[0m         error_string \u001b[38;5;241m=\u001b[39m geterrorstring(env, status)\n\u001b[1;32m--> 249\u001b[0m \u001b[38;5;28;01mraise\u001b[39;00m CplexSolverError(error_string, env, status)\n",
      "\u001b[1;31mCplexSolverError\u001b[0m: CPLEX Error  1016: Community Edition. Problem size limits exceeded. Purchase at http://ibm.biz/error1016."
     ]
    }
   ],
   "source": [
    "problemSolver.solve()"
   ]
  }
 ],
 "metadata": {
  "kernelspec": {
   "display_name": "Python 3",
   "language": "python",
   "name": "python3"
  },
  "language_info": {
   "codemirror_mode": {
    "name": "ipython",
    "version": 3
   },
   "file_extension": ".py",
   "mimetype": "text/x-python",
   "name": "python",
   "nbconvert_exporter": "python",
   "pygments_lexer": "ipython3",
   "version": "3.10.2"
  }
 },
 "nbformat": 4,
 "nbformat_minor": 2
}
